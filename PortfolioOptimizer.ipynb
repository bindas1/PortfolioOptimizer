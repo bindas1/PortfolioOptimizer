{
 "cells": [
  {
   "cell_type": "code",
   "execution_count": 32,
   "id": "9113fb1b-9f0c-4d16-a019-eaf801ba53b3",
   "metadata": {},
   "outputs": [],
   "source": [
    "import pandas as pd\n",
    "import numpy\n",
    "import seaborn as sns\n",
    "import datetime"
   ]
  },
  {
   "cell_type": "code",
   "execution_count": 27,
   "id": "424ed49c-643d-4d24-b9cc-2eb040dd155b",
   "metadata": {},
   "outputs": [],
   "source": [
    "msft = pd.read_csv(\"data/MSFT.csv\", parse_dates=['Date'])\n",
    "gs = pd.read_csv(\"data/GS.csv\", parse_dates=['Date'])\n",
    "tsla = pd.read_csv(\"data/TSLA.csv\", parse_dates=['Date'])\n",
    "v = pd.read_csv(\"data/V.csv\", parse_dates=['Date'])\n",
    "aapl = pd.read_csv(\"data/AAPL.csv\", parse_dates=['Date'])"
   ]
  },
  {
   "cell_type": "code",
   "execution_count": 28,
   "id": "4179db3d-fc93-48f0-806b-d974cbac3c31",
   "metadata": {},
   "outputs": [
    {
     "data": {
      "text/html": [
       "<div>\n",
       "<style scoped>\n",
       "    .dataframe tbody tr th:only-of-type {\n",
       "        vertical-align: middle;\n",
       "    }\n",
       "\n",
       "    .dataframe tbody tr th {\n",
       "        vertical-align: top;\n",
       "    }\n",
       "\n",
       "    .dataframe thead th {\n",
       "        text-align: right;\n",
       "    }\n",
       "</style>\n",
       "<table border=\"1\" class=\"dataframe\">\n",
       "  <thead>\n",
       "    <tr style=\"text-align: right;\">\n",
       "      <th></th>\n",
       "      <th>Date</th>\n",
       "      <th>Open</th>\n",
       "      <th>High</th>\n",
       "      <th>Low</th>\n",
       "      <th>Close</th>\n",
       "      <th>Adj Close</th>\n",
       "      <th>Volume</th>\n",
       "    </tr>\n",
       "  </thead>\n",
       "  <tbody>\n",
       "    <tr>\n",
       "      <th>353</th>\n",
       "      <td>2013-05-31</td>\n",
       "      <td>34.820000</td>\n",
       "      <td>35.279999</td>\n",
       "      <td>34.790001</td>\n",
       "      <td>34.900002</td>\n",
       "      <td>29.547039</td>\n",
       "      <td>56165700</td>\n",
       "    </tr>\n",
       "    <tr>\n",
       "      <th>1335</th>\n",
       "      <td>2017-04-25</td>\n",
       "      <td>67.900002</td>\n",
       "      <td>68.040001</td>\n",
       "      <td>67.599998</td>\n",
       "      <td>67.919998</td>\n",
       "      <td>63.649605</td>\n",
       "      <td>30242700</td>\n",
       "    </tr>\n",
       "    <tr>\n",
       "      <th>768</th>\n",
       "      <td>2015-01-23</td>\n",
       "      <td>47.360001</td>\n",
       "      <td>47.389999</td>\n",
       "      <td>46.799999</td>\n",
       "      <td>47.180000</td>\n",
       "      <td>41.639881</td>\n",
       "      <td>26211600</td>\n",
       "    </tr>\n",
       "    <tr>\n",
       "      <th>2301</th>\n",
       "      <td>2021-02-25</td>\n",
       "      <td>232.080002</td>\n",
       "      <td>234.589996</td>\n",
       "      <td>227.880005</td>\n",
       "      <td>228.990005</td>\n",
       "      <td>228.025925</td>\n",
       "      <td>39542200</td>\n",
       "    </tr>\n",
       "    <tr>\n",
       "      <th>100</th>\n",
       "      <td>2012-05-25</td>\n",
       "      <td>29.200001</td>\n",
       "      <td>29.360001</td>\n",
       "      <td>29.010000</td>\n",
       "      <td>29.059999</td>\n",
       "      <td>23.875193</td>\n",
       "      <td>29507200</td>\n",
       "    </tr>\n",
       "  </tbody>\n",
       "</table>\n",
       "</div>"
      ],
      "text/plain": [
       "           Date        Open        High         Low       Close   Adj Close  \\\n",
       "353  2013-05-31   34.820000   35.279999   34.790001   34.900002   29.547039   \n",
       "1335 2017-04-25   67.900002   68.040001   67.599998   67.919998   63.649605   \n",
       "768  2015-01-23   47.360001   47.389999   46.799999   47.180000   41.639881   \n",
       "2301 2021-02-25  232.080002  234.589996  227.880005  228.990005  228.025925   \n",
       "100  2012-05-25   29.200001   29.360001   29.010000   29.059999   23.875193   \n",
       "\n",
       "        Volume  \n",
       "353   56165700  \n",
       "1335  30242700  \n",
       "768   26211600  \n",
       "2301  39542200  \n",
       "100   29507200  "
      ]
     },
     "execution_count": 28,
     "metadata": {},
     "output_type": "execute_result"
    }
   ],
   "source": [
    "msft.sample(5)"
   ]
  },
  {
   "cell_type": "code",
   "execution_count": 36,
   "id": "ed6c8fcd-43fc-4743-a8f4-0df6ee1b1921",
   "metadata": {},
   "outputs": [
    {
     "data": {
      "text/html": [
       "<div>\n",
       "<style scoped>\n",
       "    .dataframe tbody tr th:only-of-type {\n",
       "        vertical-align: middle;\n",
       "    }\n",
       "\n",
       "    .dataframe tbody tr th {\n",
       "        vertical-align: top;\n",
       "    }\n",
       "\n",
       "    .dataframe thead th {\n",
       "        text-align: right;\n",
       "    }\n",
       "</style>\n",
       "<table border=\"1\" class=\"dataframe\">\n",
       "  <thead>\n",
       "    <tr style=\"text-align: right;\">\n",
       "      <th></th>\n",
       "      <th>Open</th>\n",
       "      <th>High</th>\n",
       "      <th>Low</th>\n",
       "      <th>Close</th>\n",
       "      <th>Adj Close</th>\n",
       "      <th>Volume</th>\n",
       "    </tr>\n",
       "  </thead>\n",
       "  <tbody>\n",
       "    <tr>\n",
       "      <th>count</th>\n",
       "      <td>2482.000000</td>\n",
       "      <td>2482.000000</td>\n",
       "      <td>2482.000000</td>\n",
       "      <td>2482.000000</td>\n",
       "      <td>2482.000000</td>\n",
       "      <td>2.482000e+03</td>\n",
       "    </tr>\n",
       "    <tr>\n",
       "      <th>mean</th>\n",
       "      <td>94.626551</td>\n",
       "      <td>95.494815</td>\n",
       "      <td>93.741620</td>\n",
       "      <td>94.678880</td>\n",
       "      <td>90.737950</td>\n",
       "      <td>3.400731e+07</td>\n",
       "    </tr>\n",
       "    <tr>\n",
       "      <th>std</th>\n",
       "      <td>73.521419</td>\n",
       "      <td>74.215372</td>\n",
       "      <td>72.832065</td>\n",
       "      <td>73.589541</td>\n",
       "      <td>74.979446</td>\n",
       "      <td>1.802483e+07</td>\n",
       "    </tr>\n",
       "    <tr>\n",
       "      <th>min</th>\n",
       "      <td>26.379999</td>\n",
       "      <td>26.629999</td>\n",
       "      <td>26.260000</td>\n",
       "      <td>26.370001</td>\n",
       "      <td>21.707487</td>\n",
       "      <td>7.425600e+06</td>\n",
       "    </tr>\n",
       "    <tr>\n",
       "      <th>25%</th>\n",
       "      <td>41.167502</td>\n",
       "      <td>41.595000</td>\n",
       "      <td>40.837502</td>\n",
       "      <td>41.240000</td>\n",
       "      <td>36.221183</td>\n",
       "      <td>2.285898e+07</td>\n",
       "    </tr>\n",
       "    <tr>\n",
       "      <th>50%</th>\n",
       "      <td>60.994999</td>\n",
       "      <td>61.395000</td>\n",
       "      <td>60.805000</td>\n",
       "      <td>61.105000</td>\n",
       "      <td>56.918037</td>\n",
       "      <td>2.965320e+07</td>\n",
       "    </tr>\n",
       "    <tr>\n",
       "      <th>75%</th>\n",
       "      <td>127.842502</td>\n",
       "      <td>129.417496</td>\n",
       "      <td>127.082500</td>\n",
       "      <td>128.129997</td>\n",
       "      <td>124.999542</td>\n",
       "      <td>3.969452e+07</td>\n",
       "    </tr>\n",
       "    <tr>\n",
       "      <th>max</th>\n",
       "      <td>338.510010</td>\n",
       "      <td>338.790009</td>\n",
       "      <td>334.529999</td>\n",
       "      <td>336.989990</td>\n",
       "      <td>336.989990</td>\n",
       "      <td>2.484285e+08</td>\n",
       "    </tr>\n",
       "  </tbody>\n",
       "</table>\n",
       "</div>"
      ],
      "text/plain": [
       "              Open         High          Low        Close    Adj Close  \\\n",
       "count  2482.000000  2482.000000  2482.000000  2482.000000  2482.000000   \n",
       "mean     94.626551    95.494815    93.741620    94.678880    90.737950   \n",
       "std      73.521419    74.215372    72.832065    73.589541    74.979446   \n",
       "min      26.379999    26.629999    26.260000    26.370001    21.707487   \n",
       "25%      41.167502    41.595000    40.837502    41.240000    36.221183   \n",
       "50%      60.994999    61.395000    60.805000    61.105000    56.918037   \n",
       "75%     127.842502   129.417496   127.082500   128.129997   124.999542   \n",
       "max     338.510010   338.790009   334.529999   336.989990   336.989990   \n",
       "\n",
       "             Volume  \n",
       "count  2.482000e+03  \n",
       "mean   3.400731e+07  \n",
       "std    1.802483e+07  \n",
       "min    7.425600e+06  \n",
       "25%    2.285898e+07  \n",
       "50%    2.965320e+07  \n",
       "75%    3.969452e+07  \n",
       "max    2.484285e+08  "
      ]
     },
     "execution_count": 36,
     "metadata": {},
     "output_type": "execute_result"
    }
   ],
   "source": [
    "msft.describe()"
   ]
  },
  {
   "cell_type": "code",
   "execution_count": 30,
   "id": "9ecaac33-97c1-429d-8ca4-24d090724b6f",
   "metadata": {},
   "outputs": [
    {
     "data": {
      "text/plain": [
       "Date         datetime64[ns]\n",
       "Open                float64\n",
       "High                float64\n",
       "Low                 float64\n",
       "Close               float64\n",
       "Adj Close           float64\n",
       "Volume                int64\n",
       "dtype: object"
      ]
     },
     "execution_count": 30,
     "metadata": {},
     "output_type": "execute_result"
    }
   ],
   "source": [
    "msft.dtypes"
   ]
  },
  {
   "cell_type": "code",
   "execution_count": 35,
   "id": "dd862e7f-fe8b-4f2f-ad30-fc7b03196215",
   "metadata": {},
   "outputs": [
    {
     "data": {
      "text/plain": [
       "Date         2012-01-03 00:00:00\n",
       "Open                   26.549999\n",
       "High                   26.959999\n",
       "Low                    26.389999\n",
       "Close                      26.77\n",
       "Adj Close              21.707487\n",
       "Volume                  64731500\n",
       "Name: 0, dtype: object"
      ]
     },
     "execution_count": 35,
     "metadata": {},
     "output_type": "execute_result"
    }
   ],
   "source": [
    "msft.iloc[0,:]"
   ]
  },
  {
   "cell_type": "code",
   "execution_count": 40,
   "id": "ae8218ef-ba0b-47fe-923a-213d1a495572",
   "metadata": {},
   "outputs": [
    {
     "name": "stdout",
     "output_type": "stream",
     "text": [
      "2012-01-03 00:00:00\n"
     ]
    }
   ],
   "source": [
    "# first date\n",
    "print(msft.Date.min())\n",
    "assert msft.Date.min() == gs.Date.min()"
   ]
  },
  {
   "cell_type": "code",
   "execution_count": 33,
   "id": "ef531635-c3ef-46e0-b292-046b20e0ecf2",
   "metadata": {},
   "outputs": [
    {
     "data": {
      "text/plain": [
       "datetime.datetime(2012, 1, 1, 0, 0)"
      ]
     },
     "execution_count": 33,
     "metadata": {},
     "output_type": "execute_result"
    }
   ],
   "source": [
    "datetime.datetime(2012,1,1)"
   ]
  },
  {
   "cell_type": "code",
   "execution_count": 53,
   "id": "1d17ef2f-ab65-434e-926e-36d10985266f",
   "metadata": {},
   "outputs": [
    {
     "data": {
      "text/plain": [
       "array([26.77])"
      ]
     },
     "execution_count": 53,
     "metadata": {},
     "output_type": "execute_result"
    }
   ],
   "source": [
    "msft[msft.Date==datetime.datetime(2012,1,3)].Close.to_numpy()"
   ]
  },
  {
   "cell_type": "code",
   "execution_count": 54,
   "id": "ded5dde6-b6f8-4c07-b923-cad4e5f8660e",
   "metadata": {},
   "outputs": [
    {
     "data": {
      "text/plain": [
       "0        1.000000\n",
       "1        1.023534\n",
       "2        1.033993\n",
       "3        1.050056\n",
       "4        1.036235\n",
       "          ...    \n",
       "2477    12.567800\n",
       "2478    12.553605\n",
       "2479    12.588345\n",
       "2480    12.549496\n",
       "2481    12.357116\n",
       "Name: Close, Length: 2482, dtype: float64"
      ]
     },
     "execution_count": 54,
     "metadata": {},
     "output_type": "execute_result"
    }
   ],
   "source": [
    "msft.Close / msft[msft.Date==datetime.datetime(2012,1,3)].Close.to_numpy()"
   ]
  },
  {
   "cell_type": "code",
   "execution_count": null,
   "id": "0dc76858-4e8f-4e6e-97c4-1feac4ccf136",
   "metadata": {},
   "outputs": [],
   "source": [
    "# add new column for the relative price to the first day in our df\n",
    "msft[\"Rel_price\"] = msft.Close / msft[msft.Date==datetime.datetime(2012,1,3)].Close.to_numpy()\n",
    "v[\"Rel_price\"] = v.Close / v[v.Date==datetime.datetime(2012,1,3)].Close.to_numpy()\n",
    "aapl[\"Rel_price\"] = aapl.Close / aapl[aapl.Date==datetime.datetime(2012,1,3)].Close.to_numpy()\n",
    "msft[\"Rel_price\"] = msft.Close / msft[msft.Date==datetime.datetime(2012,1,3)].Close.to_numpy()\n",
    "msft[\"Rel_price\"] = msft.Close / msft[msft.Date==datetime.datetime(2012,1,3)].Close.to_numpy()"
   ]
  },
  {
   "cell_type": "code",
   "execution_count": 16,
   "id": "6bbccef4-fb8d-473b-ac76-d170b0793273",
   "metadata": {},
   "outputs": [
    {
     "data": {
      "text/plain": [
       "<AxesSubplot:xlabel='Date', ylabel='Close'>"
      ]
     },
     "execution_count": 16,
     "metadata": {},
     "output_type": "execute_result"
    },
    {
     "data": {
      "image/png": "[encoded data removed]",
      "text/plain": [
       "<Figure size 432x288 with 1 Axes>"
      ]
     },
     "metadata": {
      "needs_background": "light"
     },
     "output_type": "display_data"
    }
   ],
   "source": [
    "sns.lineplot(x=msft.Date, y=msft.Close, title=\"Price of \")"
   ]
  },
  {
   "cell_type": "code",
   "execution_count": null,
   "id": "c751549d-a03e-4dfd-8761-96ff6af0ed24",
   "metadata": {},
   "outputs": [],
   "source": []
  }
 ],
 "metadata": {
  "kernelspec": {
   "display_name": "Python 3 (ipykernel)",
   "language": "python",
   "name": "python3"
  },
  "language_info": {
   "codemirror_mode": {
    "name": "ipython",
    "version": 3
   },
   "file_extension": ".py",
   "mimetype": "text/x-python",
   "name": "python",
   "nbconvert_exporter": "python",
   "pygments_lexer": "ipython3",
   "version": "3.8.11"
  }
 },
 "nbformat": 4,
 "nbformat_minor": 5
}
